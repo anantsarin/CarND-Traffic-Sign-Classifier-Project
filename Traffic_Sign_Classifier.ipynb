{
 "cells": [
  {
   "cell_type": "markdown",
   "metadata": {},
   "source": [
    "# Self-Driving Car Engineer Nanodegree\n",
    "\n",
    "## Deep Learning\n",
    "\n",
    "## Project: Build a Traffic Sign Recognition Classifier\n",
    "\n",
    "In this notebook, a template is provided for you to implement your functionality in stages, which is required to successfully complete this project. If additional code is required that cannot be included in the notebook, be sure that the Python code is successfully imported and included in your submission if necessary. \n",
    "\n",
    "> **Note**: Once you have completed all of the code implementations, you need to finalize your work by exporting the iPython Notebook as an HTML document. Before exporting the notebook to html, all of the code cells need to have been run so that reviewers can see the final implementation and output. You can then export the notebook by using the menu above and navigating to  \\n\",\n",
    "    \"**File -> Download as -> HTML (.html)**. Include the finished document along with this notebook as your submission. \n",
    "\n",
    "In addition to implementing code, there is a writeup to complete. The writeup should be completed in a separate file, which can be either a markdown file or a pdf document. There is a [write up template](https://github.com/udacity/CarND-Traffic-Sign-Classifier-Project/blob/master/writeup_template.md) that can be used to guide the writing process. Completing the code template and writeup template will cover all of the [rubric points](https://review.udacity.com/#!/rubrics/481/view) for this project.\n",
    "\n",
    "The [rubric](https://review.udacity.com/#!/rubrics/481/view) contains \"Stand Out Suggestions\" for enhancing the project beyond the minimum requirements. The stand out suggestions are optional. If you decide to pursue the \"stand out suggestions\", you can include the code in this Ipython notebook and also discuss the results in the writeup file.\n",
    "\n",
    "\n",
    ">**Note:** Code and Markdown cells can be executed using the **Shift + Enter** keyboard shortcut. In addition, Markdown cells can be edited by typically double-clicking the cell to enter edit mode."
   ]
  },
  {
   "cell_type": "markdown",
   "metadata": {},
   "source": [
    "---\n",
    "## Step 0: Load The Data"
   ]
  },
  {
   "cell_type": "code",
   "execution_count": 1,
   "metadata": {},
   "outputs": [],
   "source": [
    "# Load pickled data\n",
    "import pickle\n",
    "\n",
    "# TODO: Fill this in based on where you saved the training and testing data\n",
    "\n",
    "training_file = '../data/train.p'\n",
    "validation_file= '../data/valid.p'\n",
    "testing_file = '../data/test.p'\n",
    "\n",
    "with open(training_file, mode='rb') as f:\n",
    "    train = pickle.load(f)\n",
    "with open(validation_file, mode='rb') as f:\n",
    "    valid = pickle.load(f)\n",
    "with open(testing_file, mode='rb') as f:\n",
    "    test = pickle.load(f)\n",
    "    \n",
    "X_train, y_train = train['features'], train['labels']\n",
    "X_valid, y_valid = valid['features'], valid['labels']\n",
    "X_test, y_test = test['features'], test['labels']\n",
    "\n",
    "assert(len(X_train) == len(y_train))\n",
    "assert(len(X_valid) == len(y_valid))\n",
    "assert(len(X_test) == len(y_test))"
   ]
  },
  {
   "cell_type": "markdown",
   "metadata": {},
   "source": [
    "---\n",
    "\n",
    "## Step 1: Dataset Summary & Exploration\n",
    "\n",
    "The pickled data is a dictionary with 4 key/value pairs:\n",
    "\n",
    "- `'features'` is a 4D array containing raw pixel data of the traffic sign images, (num examples, width, height, channels).\n",
    "- `'labels'` is a 1D array containing the label/class id of the traffic sign. The file `signnames.csv` contains id -> name mappings for each id.\n",
    "- `'sizes'` is a list containing tuples, (width, height) representing the original width and height the image.\n",
    "- `'coords'` is a list containing tuples, (x1, y1, x2, y2) representing coordinates of a bounding box around the sign in the image. **THESE COORDINATES ASSUME THE ORIGINAL IMAGE. THE PICKLED DATA CONTAINS RESIZED VERSIONS (32 by 32) OF THESE IMAGES**\n",
    "\n",
    "Complete the basic data summary below. Use python, numpy and/or pandas methods to calculate the data summary rather than hard coding the results. For example, the [pandas shape method](http://pandas.pydata.org/pandas-docs/stable/generated/pandas.DataFrame.shape.html) might be useful for calculating some of the summary results. "
   ]
  },
  {
   "cell_type": "markdown",
   "metadata": {},
   "source": [
    "### Provide a Basic Summary of the Data Set Using Python, Numpy and/or Pandas"
   ]
  },
  {
   "cell_type": "code",
   "execution_count": 2,
   "metadata": {},
   "outputs": [
    {
     "name": "stdout",
     "output_type": "stream",
     "text": [
      "4410\n",
      "Number of training examples = 34799\n",
      "Number of testing examples = 12630\n",
      "Image data shape = (32, 32, 3)\n",
      "Number of classes = 43\n"
     ]
    }
   ],
   "source": [
    "### Replace each question mark with the appropriate value. \n",
    "### Use python, pandas or numpy methods rather than hard coding the results\n",
    "\n",
    "# TODO: Number of training examples\n",
    "n_train = len(X_train)\n",
    "\n",
    "# TODO: Number of validation examples\n",
    "n_validation = len(X_valid)\n",
    "\n",
    "# TODO: Number of testing examples.\n",
    "n_test = len(X_test)\n",
    "\n",
    "# TODO: What's the shape of an traffic sign image?\n",
    "image_shape = X_train[0].shape\n",
    "\n",
    "# TODO: How many unique classes/labels there are in the dataset.\n",
    "n_classes = 43\n",
    "print(n_validation)\n",
    "print(\"Number of training examples =\", n_train)\n",
    "print(\"Number of testing examples =\", n_test)\n",
    "print(\"Image data shape =\", image_shape)\n",
    "print(\"Number of classes =\", n_classes)"
   ]
  },
  {
   "cell_type": "markdown",
   "metadata": {},
   "source": [
    "### Include an exploratory visualization of the dataset"
   ]
  },
  {
   "cell_type": "markdown",
   "metadata": {},
   "source": [
    "Visualize the German Traffic Signs Dataset using the pickled file(s). This is open ended, suggestions include: plotting traffic sign images, plotting the count of each sign, etc. \n",
    "\n",
    "The [Matplotlib](http://matplotlib.org/) [examples](http://matplotlib.org/examples/index.html) and [gallery](http://matplotlib.org/gallery.html) pages are a great resource for doing visualizations in Python.\n",
    "\n",
    "**NOTE:** It's recommended you start with something simple first. If you wish to do more, come back to it after you've completed the rest of the sections. It can be interesting to look at the distribution of classes in the training, validation and test set. Is the distribution the same? Are there more examples of some classes than others?"
   ]
  },
  {
   "cell_type": "code",
   "execution_count": 3,
   "metadata": {},
   "outputs": [
    {
     "name": "stdout",
     "output_type": "stream",
     "text": [
      "16\n"
     ]
    },
    {
     "data": {
      "image/png": "[encoded data removed]",
      "text/plain": [
       "<matplotlib.figure.Figure at 0x7f63bc5cf710>"
      ]
     },
     "metadata": {
      "needs_background": "light"
     },
     "output_type": "display_data"
    }
   ],
   "source": [
    "### Data exploration visualization code goes here.\n",
    "### Feel free to use as many code cells as needed.\n",
    "import matplotlib.pyplot as plt\n",
    "import random\n",
    "import numpy as np\n",
    "# Visualizations will be shown in the notebook.\n",
    "%matplotlib inline\n",
    "\n",
    "\n",
    "index = random.randint(0, len(X_train))\n",
    "image = X_train[index].squeeze()\n",
    "\n",
    "plt.figure(figsize=(1,1))\n",
    "plt.imshow(image)\n",
    "print(y_train[index])\n"
   ]
  },
  {
   "cell_type": "code",
   "execution_count": 4,
   "metadata": {},
   "outputs": [
    {
     "data": {
      "image/png": "[encoded data removed]",
      "text/plain": [
       "<matplotlib.figure.Figure at 0x7f6398f39518>"
      ]
     },
     "metadata": {
      "needs_background": "light"
     },
     "output_type": "display_data"
    }
   ],
   "source": [
    "# histogram our data with numpy\n",
    "def histogram(y_train, n_classes):\n",
    "    n, bins = np.histogram(y_train, n_classes)\n",
    "\n",
    "    # get the center of hist\n",
    "    width = 0.5*(bins[1] - bins[0])\n",
    "    center = (bins[:-1] + bins[1:]) / 2\n",
    "    plt.bar(center, n, align='center', width=width)\n",
    "    plt.show()\n",
    "histogram(y_train, n_classes)"
   ]
  },
  {
   "cell_type": "markdown",
   "metadata": {},
   "source": [
    "----\n",
    "\n",
    "## Step 2: Design and Test a Model Architecture\n",
    "\n",
    "Design and implement a deep learning model that learns to recognize traffic signs. Train and test your model on the [German Traffic Sign Dataset](http://benchmark.ini.rub.de/?section=gtsrb&subsection=dataset).\n",
    "\n",
    "The LeNet-5 implementation shown in the [classroom](https://classroom.udacity.com/nanodegrees/nd013/parts/fbf77062-5703-404e-b60c-95b78b2f3f9e/modules/6df7ae49-c61c-4bb2-a23e-6527e69209ec/lessons/601ae704-1035-4287-8b11-e2c2716217ad/concepts/d4aca031-508f-4e0b-b493-e7b706120f81) at the end of the CNN lesson is a solid starting point. You'll have to change the number of classes and possibly the preprocessing, but aside from that it's plug and play! \n",
    "\n",
    "With the LeNet-5 solution from the lecture, you should expect a validation set accuracy of about 0.89. To meet specifications, the validation set accuracy will need to be at least 0.93. It is possible to get an even higher accuracy, but 0.93 is the minimum for a successful project submission. \n",
    "\n",
    "There are various aspects to consider when thinking about this problem:\n",
    "\n",
    "- Neural network architecture (is the network over or underfitting?)\n",
    "- Play around preprocessing techniques (normalization, rgb to grayscale, etc)\n",
    "- Number of examples per label (some have more than others).\n",
    "- Generate fake data.\n",
    "\n",
    "Here is an example of a [published baseline model on this problem](http://yann.lecun.com/exdb/publis/pdf/sermanet-ijcnn-11.pdf). It's not required to be familiar with the approach used in the paper but, it's good practice to try to read papers like these."
   ]
  },
  {
   "cell_type": "markdown",
   "metadata": {},
   "source": [
    "### Pre-process the Data Set (normalization, grayscale, etc.)"
   ]
  },
  {
   "cell_type": "markdown",
   "metadata": {},
   "source": [
    "Minimally, the image data should be normalized so that the data has mean zero and equal variance. For image data, `(pixel - 128)/ 128` is a quick way to approximately normalize the data and can be used in this project. \n",
    "\n",
    "Other pre-processing steps are optional. You can try different techniques to see if it improves performance. \n",
    "\n",
    "Use the code cell (or multiple code cells, if necessary) to implement the first step of your project."
   ]
  },
  {
   "cell_type": "code",
   "execution_count": 5,
   "metadata": {},
   "outputs": [
    {
     "name": "stdout",
     "output_type": "stream",
     "text": [
      "(69598, 32, 32, 3)\n",
      "(69598,)\n",
      "(69598, 32, 32, 1)\n"
     ]
    },
    {
     "data": {
      "image/png": "[encoded data removed]",
      "text/plain": [
       "<matplotlib.figure.Figure at 0x7f6398f32160>"
      ]
     },
     "metadata": {
      "needs_background": "light"
     },
     "output_type": "display_data"
    }
   ],
   "source": [
    "### Preprocess the data here. It is required to normalize the data. Other preprocessing steps could include \n",
    "### converting to grayscale, etc.\n",
    "### Feel free to use as many code cells as needed.\n",
    "\n",
    "from sklearn.utils import shuffle\n",
    "X_train = np.concatenate([X_train, X_train])\n",
    "y_train = np.concatenate([y_train, y_train])\n",
    "\n",
    "print(X_train.shape)\n",
    "print(y_train.shape)\n",
    " \n",
    "X_train_grey = np.sum(X_train/3, axis=3, keepdims=True)\n",
    "X_valid_grey = np.sum(X_valid/3, axis=3, keepdims=True)\n",
    "X_test_grey = np.sum(X_test/3, axis=3, keepdims=True)\n",
    "\n",
    "X_train_grey, y_train = shuffle(X_train_grey, y_train)\n",
    "print(X_train_grey.shape)\n",
    "histogram(y_train, n_classes)"
   ]
  },
  {
   "cell_type": "markdown",
   "metadata": {},
   "source": [
    "## Setup TensorFlow\n",
    "The `EPOCH` and `BATCH_SIZE` values affect the training speed and model accuracy.\n",
    "\n",
    "You do not need to modify this section."
   ]
  },
  {
   "cell_type": "code",
   "execution_count": 6,
   "metadata": {},
   "outputs": [],
   "source": [
    "import tensorflow as tf\n",
    "\n",
    "EPOCHS = 100\n",
    "BATCH_SIZE = 128"
   ]
  },
  {
   "cell_type": "markdown",
   "metadata": {},
   "source": [
    "### Model Architecture"
   ]
  },
  {
   "cell_type": "code",
   "execution_count": 7,
   "metadata": {},
   "outputs": [],
   "source": [
    "### Define your architecture here.\n",
    "### Feel free to use as many code cells as needed.\n",
    "\n",
    "from tensorflow.contrib.layers import flatten\n",
    "\n",
    "def conv2d(x, W, b, strides=1, padd='VALID', name='default'):\n",
    "    x = tf.nn.conv2d(x, W, strides=[1, strides, strides, 1], padding=padd)\n",
    "    x = tf.nn.bias_add(x, b)\n",
    "    return tf.nn.relu(x, name=name)\n",
    "\n",
    "def maxpool(input_x, k_size=2, strides_size=2, padd ='VALID', name='default'):\n",
    "    ksize = [1, k_size, k_size, 1]\n",
    "    strides = [1, strides_size, strides_size, 1]\n",
    "    return tf.nn.max_pool(input_x, ksize, strides, padding=padd, name=name)\n",
    "\n",
    "def fc_layer(input_x, W, b):\n",
    "    return tf.add(tf.matmul(input_x, W), b)\n",
    "\n",
    "# Store layers weight & bias\n",
    "\n",
    "\n",
    "def LeNet(x):\n",
    "    # Arguments used for tf.truncated_normal, randomly defines variables for the weights and biases for each layer\n",
    "    mu = 0\n",
    "    sigma = 0.1\n",
    "\n",
    "    weights = {\n",
    "        'wc1': tf.Variable(tf.truncated_normal(shape=(5, 5, 1, 6), mean = mu, stddev = sigma)),\n",
    "        'wc2': tf.Variable(tf.truncated_normal(shape=(5, 5, 6, 16), mean = mu, stddev = sigma)),\n",
    "        'wd1': tf.Variable(tf.truncated_normal(shape=(400, 200), mean = mu, stddev = sigma)),\n",
    "        'wd2': tf.Variable(tf.truncated_normal(shape=(200, 120), mean = mu, stddev = sigma)),\n",
    "        'wd3': tf.Variable(tf.truncated_normal(shape=(120, 84), mean = mu, stddev = sigma)),\n",
    "        'out': tf.Variable(tf.truncated_normal(shape=(84, n_classes), mean = mu, stddev = sigma))}\n",
    "\n",
    "    biases = {\n",
    "        'bc1': tf.Variable(tf.zeros(6)),\n",
    "        'bc2': tf.Variable(tf.zeros(16)),\n",
    "        'bd1': tf.Variable(tf.zeros(200)),\n",
    "        'bd2': tf.Variable(tf.zeros(120)),\n",
    "        'bd3': tf.Variable(tf.zeros(84)),\n",
    "        'out': tf.Variable(tf.zeros(n_classes))\n",
    "        }\n",
    "\n",
    "    #  Layer 1: Convolutional. Input = 32x32x1. Output = 28x28x6.\n",
    "    # Activation.\n",
    "    #  Pooling. Input = 28x28x6. Output = 14x14x6.\n",
    "    conv1 = conv2d(x, weights['wc1'], biases['bc1'], name='conv1')\n",
    "    conv1 = maxpool(conv1, name='max1')\n",
    "    #print (conv1.shape)\n",
    "    #  Layer 2: Convolutional. Output = 10x10x16.\n",
    "    #  Activation.\n",
    "    #  Pooling. Input = 10x10x16. Output = 5x5x16.\n",
    "    conv2 = conv2d(conv1, weights['wc2'], biases['bc2'], name='conv2')\n",
    "    conv2 = maxpool(conv2, name='max2')\n",
    "    #print (conv2.shape)\n",
    "\n",
    "    # TODO: Flatten. Input = 5x5x16. Output = 400.\n",
    "    flat_op =  tf.contrib.layers.flatten(conv2)\n",
    "\n",
    "    # Layer 3: Fully Connected. Input = 400. Output = 200.\n",
    "    fc1 = fc_layer(flat_op, weights['wd1'], biases['bd1'])\n",
    "    #  Activation.\n",
    "    fc1 = tf.nn.relu(fc1)\n",
    "    # Dropout\n",
    "    fc1 = tf.nn.dropout(fc1, keep_prob)\n",
    "    # Layer 4: Fully Connected. Input = 200. Output = 120.\n",
    "    fc2 = fc_layer(fc1, weights['wd2'], biases['bd2'])\n",
    "    # Activation.\n",
    "    fc2 = tf.nn.relu(fc2)\n",
    "    # Dropout\n",
    "    fc2 = tf.nn.dropout(fc2, keep_prob)\n",
    "    # Layer 5: Fully Connected. Input = 120. Output = 84.120\n",
    "    fc3 = fc_layer(fc2, weights['wd3'], biases['bd3'])\n",
    "    # Activation.\n",
    "    fc3 = tf.nn.relu(fc3)\n",
    "\n",
    "    # Layer 6: Fully Connected. Input = 84. Output = 43.\n",
    "    logits = fc_layer(fc3, weights['out'], biases['out'])\n",
    "\n",
    "    return logits"
   ]
  },
  {
   "cell_type": "markdown",
   "metadata": {},
   "source": [
    "## Features and Labels\n",
    "`x` is a placeholder for a batch of input images.\n",
    "`y` is a placeholder for a batch of output labels.\n",
    "\n"
   ]
  },
  {
   "cell_type": "code",
   "execution_count": 8,
   "metadata": {},
   "outputs": [],
   "source": [
    "x = tf.placeholder(tf.float32, (None, 32, 32, 1))\n",
    "y = tf.placeholder(tf.int32, (None))\n",
    "keep_prob = tf.placeholder(tf.float32)\n",
    "one_hot_y = tf.one_hot(y, n_classes)"
   ]
  },
  {
   "cell_type": "markdown",
   "metadata": {},
   "source": [
    "### Train, Validate and Test the Model"
   ]
  },
  {
   "cell_type": "markdown",
   "metadata": {},
   "source": [
    "A validation set can be used to assess how well the model is performing. A low accuracy on the training and validation\n",
    "sets imply underfitting. A high accuracy on the training set but low accuracy on the validation set implies overfitting."
   ]
  },
  {
   "cell_type": "code",
   "execution_count": 9,
   "metadata": {},
   "outputs": [],
   "source": [
    "### Train your model here.\n",
    "### Calculate and report the accuracy on the training and validation set.\n",
    "### Once a final model architecture is selected, \n",
    "### the accuracy on the test set should be calculated and reported as well.\n",
    "### Feel free to use as many code cells as needed."
   ]
  },
  {
   "cell_type": "markdown",
   "metadata": {},
   "source": [
    "# Train "
   ]
  },
  {
   "cell_type": "code",
   "execution_count": 10,
   "metadata": {},
   "outputs": [],
   "source": [
    "rate = 0.001\n",
    "\n",
    "logits = LeNet(x)\n",
    "cross_entropy = tf.nn.softmax_cross_entropy_with_logits(labels=one_hot_y, logits=logits)\n",
    "loss_operation = tf.reduce_mean(cross_entropy)\n",
    "optimizer = tf.train.AdamOptimizer(learning_rate = rate)\n",
    "training_operation = optimizer.minimize(loss_operation)"
   ]
  },
  {
   "cell_type": "markdown",
   "metadata": {},
   "source": [
    "## Model Evaluation\n",
    "Evaluate how well the loss and accuracy of the model for a given dataset.\n"
   ]
  },
  {
   "cell_type": "code",
   "execution_count": 11,
   "metadata": {},
   "outputs": [],
   "source": [
    "correct_prediction = tf.equal(tf.argmax(logits, 1), tf.argmax(one_hot_y, 1))\n",
    "accuracy_operation = tf.reduce_mean(tf.cast(correct_prediction, tf.float32))\n",
    "saver = tf.train.Saver()\n",
    "\n",
    "def evaluate(X_data, y_data):\n",
    "    num_examples = len(X_data)\n",
    "    total_accuracy = 0\n",
    "    sess = tf.get_default_session()\n",
    "    for offset in range(0, num_examples, BATCH_SIZE):\n",
    "        batch_x, batch_y = X_data[offset:offset+BATCH_SIZE], y_data[offset:offset+BATCH_SIZE]\n",
    "        accuracy = sess.run(accuracy_operation, feed_dict={x: batch_x, y: batch_y, keep_prob: 1})\n",
    "        total_accuracy += (accuracy * len(batch_x))\n",
    "    return total_accuracy / num_examples"
   ]
  },
  {
   "cell_type": "markdown",
   "metadata": {
    "collapsed": true
   },
   "source": [
    "\n",
    "\n",
    "## Train the Model\n",
    "Run the training data through the training pipeline to train the model.\n",
    "\n",
    "Before each epoch, shuffle the training set.\n",
    "\n",
    "After each epoch, measure the loss and accuracy of the validation set.\n",
    "\n",
    "Save the model after training."
   ]
  },
  {
   "cell_type": "code",
   "execution_count": 12,
   "metadata": {},
   "outputs": [
    {
     "name": "stdout",
     "output_type": "stream",
     "text": [
      "Training...\n",
      "\n",
      "EPOCH 1 ...\n",
      "Validation Accuracy = 0.671\n",
      "\n",
      "EPOCH 2 ...\n",
      "Validation Accuracy = 0.818\n",
      "\n",
      "EPOCH 3 ...\n",
      "Validation Accuracy = 0.847\n",
      "\n",
      "EPOCH 4 ...\n",
      "Validation Accuracy = 0.885\n",
      "\n",
      "EPOCH 5 ...\n",
      "Validation Accuracy = 0.902\n",
      "\n",
      "EPOCH 6 ...\n",
      "Validation Accuracy = 0.910\n",
      "\n",
      "EPOCH 7 ...\n",
      "Validation Accuracy = 0.919\n",
      "\n",
      "EPOCH 8 ...\n",
      "Validation Accuracy = 0.914\n",
      "\n",
      "EPOCH 9 ...\n",
      "Validation Accuracy = 0.915\n",
      "\n",
      "EPOCH 10 ...\n",
      "Validation Accuracy = 0.918\n",
      "\n",
      "EPOCH 11 ...\n",
      "Validation Accuracy = 0.926\n",
      "\n",
      "EPOCH 12 ...\n",
      "Validation Accuracy = 0.930\n",
      "\n",
      "EPOCH 13 ...\n",
      "Validation Accuracy = 0.934\n",
      "\n",
      "EPOCH 14 ...\n",
      "Validation Accuracy = 0.923\n",
      "\n",
      "EPOCH 15 ...\n",
      "Validation Accuracy = 0.929\n",
      "\n",
      "EPOCH 16 ...\n",
      "Validation Accuracy = 0.936\n",
      "\n",
      "EPOCH 17 ...\n",
      "Validation Accuracy = 0.939\n",
      "\n",
      "EPOCH 18 ...\n",
      "Validation Accuracy = 0.936\n",
      "\n",
      "EPOCH 19 ...\n",
      "Validation Accuracy = 0.939\n",
      "\n",
      "EPOCH 20 ...\n",
      "Validation Accuracy = 0.937\n",
      "\n",
      "EPOCH 21 ...\n",
      "Validation Accuracy = 0.929\n",
      "\n",
      "EPOCH 22 ...\n",
      "Validation Accuracy = 0.936\n",
      "\n",
      "EPOCH 23 ...\n",
      "Validation Accuracy = 0.944\n",
      "\n",
      "EPOCH 24 ...\n",
      "Validation Accuracy = 0.940\n",
      "\n",
      "EPOCH 25 ...\n",
      "Validation Accuracy = 0.935\n",
      "\n",
      "EPOCH 26 ...\n",
      "Validation Accuracy = 0.937\n",
      "\n",
      "EPOCH 27 ...\n",
      "Validation Accuracy = 0.946\n",
      "\n",
      "EPOCH 28 ...\n",
      "Validation Accuracy = 0.940\n",
      "\n",
      "EPOCH 29 ...\n",
      "Validation Accuracy = 0.942\n",
      "\n",
      "EPOCH 30 ...\n",
      "Validation Accuracy = 0.943\n",
      "\n",
      "EPOCH 31 ...\n",
      "Validation Accuracy = 0.943\n",
      "\n",
      "EPOCH 32 ...\n",
      "Validation Accuracy = 0.941\n",
      "\n",
      "EPOCH 33 ...\n",
      "Validation Accuracy = 0.929\n",
      "\n",
      "EPOCH 34 ...\n",
      "Validation Accuracy = 0.938\n",
      "\n",
      "EPOCH 35 ...\n",
      "Validation Accuracy = 0.944\n",
      "\n",
      "EPOCH 36 ...\n",
      "Validation Accuracy = 0.940\n",
      "\n",
      "EPOCH 37 ...\n",
      "Validation Accuracy = 0.926\n",
      "\n",
      "EPOCH 38 ...\n",
      "Validation Accuracy = 0.941\n",
      "\n",
      "EPOCH 39 ...\n",
      "Validation Accuracy = 0.941\n",
      "\n",
      "EPOCH 40 ...\n",
      "Validation Accuracy = 0.924\n",
      "\n",
      "EPOCH 41 ...\n",
      "Validation Accuracy = 0.937\n",
      "\n",
      "EPOCH 42 ...\n",
      "Validation Accuracy = 0.945\n",
      "\n",
      "EPOCH 43 ...\n",
      "Validation Accuracy = 0.943\n",
      "\n",
      "EPOCH 44 ...\n",
      "Validation Accuracy = 0.943\n",
      "\n",
      "EPOCH 45 ...\n",
      "Validation Accuracy = 0.943\n",
      "\n",
      "EPOCH 46 ...\n",
      "Validation Accuracy = 0.941\n",
      "\n",
      "EPOCH 47 ...\n",
      "Validation Accuracy = 0.935\n",
      "\n",
      "EPOCH 48 ...\n",
      "Validation Accuracy = 0.942\n",
      "\n",
      "EPOCH 49 ...\n",
      "Validation Accuracy = 0.943\n",
      "\n",
      "EPOCH 50 ...\n",
      "Validation Accuracy = 0.945\n",
      "\n",
      "EPOCH 51 ...\n",
      "Validation Accuracy = 0.938\n",
      "\n",
      "EPOCH 52 ...\n",
      "Validation Accuracy = 0.946\n",
      "\n",
      "EPOCH 53 ...\n",
      "Validation Accuracy = 0.947\n",
      "\n",
      "EPOCH 54 ...\n",
      "Validation Accuracy = 0.946\n",
      "\n",
      "EPOCH 55 ...\n",
      "Validation Accuracy = 0.944\n",
      "\n",
      "EPOCH 56 ...\n",
      "Validation Accuracy = 0.944\n",
      "\n",
      "EPOCH 57 ...\n",
      "Validation Accuracy = 0.945\n",
      "\n",
      "EPOCH 58 ...\n",
      "Validation Accuracy = 0.937\n",
      "\n",
      "EPOCH 59 ...\n",
      "Validation Accuracy = 0.942\n",
      "\n",
      "EPOCH 60 ...\n",
      "Validation Accuracy = 0.944\n",
      "\n",
      "EPOCH 61 ...\n",
      "Validation Accuracy = 0.948\n",
      "\n",
      "EPOCH 62 ...\n",
      "Validation Accuracy = 0.946\n",
      "\n",
      "EPOCH 63 ...\n",
      "Validation Accuracy = 0.947\n",
      "\n",
      "EPOCH 64 ...\n",
      "Validation Accuracy = 0.940\n",
      "\n",
      "EPOCH 65 ...\n",
      "Validation Accuracy = 0.945\n",
      "\n",
      "EPOCH 66 ...\n",
      "Validation Accuracy = 0.943\n",
      "\n",
      "EPOCH 67 ...\n",
      "Validation Accuracy = 0.948\n",
      "\n",
      "EPOCH 68 ...\n",
      "Validation Accuracy = 0.947\n",
      "\n",
      "EPOCH 69 ...\n",
      "Validation Accuracy = 0.947\n",
      "\n",
      "EPOCH 70 ...\n",
      "Validation Accuracy = 0.931\n",
      "\n",
      "EPOCH 71 ...\n",
      "Validation Accuracy = 0.948\n",
      "\n",
      "EPOCH 72 ...\n",
      "Validation Accuracy = 0.946\n",
      "\n",
      "EPOCH 73 ...\n",
      "Validation Accuracy = 0.949\n",
      "\n",
      "EPOCH 74 ...\n",
      "Validation Accuracy = 0.949\n",
      "\n",
      "EPOCH 75 ...\n",
      "Validation Accuracy = 0.946\n",
      "\n",
      "EPOCH 76 ...\n",
      "Validation Accuracy = 0.947\n",
      "\n",
      "EPOCH 77 ...\n",
      "Validation Accuracy = 0.946\n",
      "\n",
      "EPOCH 78 ...\n",
      "Validation Accuracy = 0.947\n",
      "\n",
      "EPOCH 79 ...\n",
      "Validation Accuracy = 0.948\n",
      "\n",
      "EPOCH 80 ...\n",
      "Validation Accuracy = 0.944\n",
      "\n",
      "EPOCH 81 ...\n",
      "Validation Accuracy = 0.946\n",
      "\n",
      "EPOCH 82 ...\n",
      "Validation Accuracy = 0.930\n",
      "\n",
      "EPOCH 83 ...\n",
      "Validation Accuracy = 0.943\n",
      "\n",
      "EPOCH 84 ...\n",
      "Validation Accuracy = 0.945\n",
      "\n",
      "EPOCH 85 ...\n",
      "Validation Accuracy = 0.945\n",
      "\n",
      "EPOCH 86 ...\n",
      "Validation Accuracy = 0.944\n",
      "\n",
      "EPOCH 87 ...\n",
      "Validation Accuracy = 0.950\n",
      "\n",
      "EPOCH 88 ...\n",
      "Validation Accuracy = 0.944\n",
      "\n",
      "EPOCH 89 ...\n",
      "Validation Accuracy = 0.939\n",
      "\n",
      "EPOCH 90 ...\n",
      "Validation Accuracy = 0.945\n",
      "\n",
      "EPOCH 91 ...\n",
      "Validation Accuracy = 0.943\n",
      "\n",
      "EPOCH 92 ...\n",
      "Validation Accuracy = 0.939\n",
      "\n",
      "EPOCH 93 ...\n",
      "Validation Accuracy = 0.944\n",
      "\n",
      "EPOCH 94 ...\n",
      "Validation Accuracy = 0.947\n",
      "\n",
      "EPOCH 95 ...\n",
      "Validation Accuracy = 0.947\n",
      "\n",
      "EPOCH 96 ...\n",
      "Validation Accuracy = 0.949\n",
      "\n",
      "EPOCH 97 ...\n",
      "Validation Accuracy = 0.947\n",
      "\n",
      "EPOCH 98 ...\n",
      "Validation Accuracy = 0.944\n",
      "\n",
      "EPOCH 99 ...\n",
      "Validation Accuracy = 0.942\n",
      "\n",
      "EPOCH 100 ...\n",
      "Validation Accuracy = 0.947\n",
      "\n",
      "Model saved\n"
     ]
    }
   ],
   "source": [
    "with tf.Session() as sess:\n",
    "    sess.run(tf.global_variables_initializer())\n",
    "    num_examples = len(X_train_grey)\n",
    "    \n",
    "    print(\"Training...\")\n",
    "    print()\n",
    "    for i in range(EPOCHS):\n",
    "        X_train_grey, y_train = shuffle(X_train_grey, y_train)\n",
    "        for offset in range(0, num_examples, BATCH_SIZE):\n",
    "            end = offset + BATCH_SIZE\n",
    "            batch_x, batch_y = X_train_grey[offset:end], y_train[offset:end]\n",
    "            sess.run(training_operation, feed_dict={x: batch_x, y: batch_y, keep_prob: 0.5})\n",
    "            \n",
    "        validation_accuracy = evaluate(X_valid_grey, y_valid)\n",
    "        print(\"EPOCH {} ...\".format(i+1))\n",
    "        print(\"Validation Accuracy = {:.3f}\".format(validation_accuracy))\n",
    "        print()\n",
    "        \n",
    "    saver.save(sess, './lenet')\n",
    "    print(\"Model saved\")"
   ]
  },
  {
   "cell_type": "markdown",
   "metadata": {},
   "source": [
    "## EVALUATE "
   ]
  },
  {
   "cell_type": "code",
   "execution_count": 12,
   "metadata": {},
   "outputs": [
    {
     "name": "stdout",
     "output_type": "stream",
     "text": [
      "INFO:tensorflow:Restoring parameters from ./lenet\n",
      "Test Accuracy = 0.929\n",
      "Training Accuracy = 0.999\n"
     ]
    }
   ],
   "source": [
    "with tf.Session() as sess:\n",
    "    saver.restore(sess, tf.train.latest_checkpoint('.'))\n",
    "\n",
    "    test_accuracy = evaluate(X_test_grey, y_test)\n",
    "    print(\"Test Accuracy = {:.3f}\".format(test_accuracy))\n",
    "    \n",
    "    training_accuracy = evaluate(X_train_grey, y_train)\n",
    "    print(\"Training Accuracy = {:.3f}\".format(training_accuracy))"
   ]
  },
  {
   "cell_type": "markdown",
   "metadata": {},
   "source": [
    "---\n",
    "\n",
    "## Step 3: Test a Model on New Images\n",
    "\n",
    "To give yourself more insight into how your model is working, download at least five pictures of German traffic signs from the web and use your model to predict the traffic sign type.\n",
    "\n",
    "You may find `signnames.csv` useful as it contains mappings from the class id (integer) to the actual sign name."
   ]
  },
  {
   "cell_type": "markdown",
   "metadata": {},
   "source": [
    "### Load and Output the Images"
   ]
  },
  {
   "cell_type": "markdown",
   "metadata": {},
   "source": [
    "#### If you disable the GPU  while calculating this section please use the commented out img_labels"
   ]
  },
  {
   "cell_type": "code",
   "execution_count": 14,
   "metadata": {},
   "outputs": [
    {
     "name": "stdout",
     "output_type": "stream",
     "text": [
      "['test_images_from_internet/7a.jpg', 'test_images_from_internet/1a.jpg', 'test_images_from_internet/3a.jpg', 'test_images_from_internet/2a.jpg', 'test_images_from_internet/6a.jpg', 'test_images_from_internet/5a.jpg', 'test_images_from_internet/4a.jpg']\n"
     ]
    },
    {
     "data": {
      "image/png": "[encoded data removed]",
      "text/plain": [
       "<matplotlib.figure.Figure at 0x7f630f2086a0>"
      ]
     },
     "metadata": {
      "needs_background": "light"
     },
     "output_type": "display_data"
    },
    {
     "data": {
      "image/png": "[encoded data removed]",
      "text/plain": [
       "<matplotlib.figure.Figure at 0x7f627816f6d8>"
      ]
     },
     "metadata": {
      "needs_background": "light"
     },
     "output_type": "display_data"
    },
    {
     "data": {
      "image/png": "[encoded data removed]",
      "text/plain": [
       "<matplotlib.figure.Figure at 0x7f627811e9b0>"
      ]
     },
     "metadata": {
      "needs_background": "light"
     },
     "output_type": "display_data"
    },
    {
     "data": {
      "image/png": "[encoded data removed]",
      "text/plain": [
       "<matplotlib.figure.Figure at 0x7f6398e2b7f0>"
      ]
     },
     "metadata": {
      "needs_background": "light"
     },
     "output_type": "display_data"
    },
    {
     "data": {
      "image/png": "[encoded data removed]",
      "text/plain": [
       "<matplotlib.figure.Figure at 0x7f63040427b8>"
      ]
     },
     "metadata": {
      "needs_background": "light"
     },
     "output_type": "display_data"
    },
    {
     "data": {
      "image/png": "[encoded data removed]",
      "text/plain": [
       "<matplotlib.figure.Figure at 0x7f637940def0>"
      ]
     },
     "metadata": {
      "needs_background": "light"
     },
     "output_type": "display_data"
    },
    {
     "data": {
      "image/png": "[encoded data removed]",
      "text/plain": [
       "<matplotlib.figure.Figure at 0x7f630408afd0>"
      ]
     },
     "metadata": {
      "needs_background": "light"
     },
     "output_type": "display_data"
    }
   ],
   "source": [
    "### Load the images and plot them here.\n",
    "### Feel free to use as many code cells as needed.\n",
    "import matplotlib.pyplot as plt\n",
    "import matplotlib.image as mpimg\n",
    "import numpy as np\n",
    "import cv2\n",
    "import glob\n",
    "\n",
    "\n",
    "saved_image_color = []\n",
    "images = glob.glob('test_images_from_internet/*')\n",
    "print(images)\n",
    "for idx, fname in enumerate(images):\n",
    "    img = cv2.imread(fname)\n",
    "    saved_image_color.append(img)\n",
    "    \n",
    "    plt.imshow(img)\n",
    "    plt.show()\n",
    "    \n",
    "saved_image_color = np.asarray(saved_image_color)\n",
    "saved_images = np.sum(saved_image_color/3, axis=3, keepdims=True)\n",
    "\n",
    "#img_labels = [31, 25 , 18, 3, 11, 17, 35]\n",
    "img_labels = [3, 11, 18, 17, 25, 35, 31]\n",
    "    "
   ]
  },
  {
   "cell_type": "markdown",
   "metadata": {},
   "source": [
    "### Predict the Sign Type for Each Image"
   ]
  },
  {
   "cell_type": "code",
   "execution_count": 15,
   "metadata": {},
   "outputs": [
    {
     "name": "stdout",
     "output_type": "stream",
     "text": [
      "INFO:tensorflow:Restoring parameters from ./lenet\n",
      "Test Accuracy = 0.857\n"
     ]
    }
   ],
   "source": [
    "### Run the predictions here and use the model to output the prediction for each image.\n",
    "### Make sure to pre-process the images with the same pre-processing pipeline used earlier.\n",
    "### Feel free to use as many code cells as needed.\n",
    "\n",
    "with tf.Session() as sess:\n",
    "    saver.restore(sess, tf.train.latest_checkpoint('.'))\n",
    "    test_accuracy = evaluate(saved_images, img_labels)\n",
    "    print(\"Test Accuracy = {:.3f}\".format(test_accuracy))"
   ]
  },
  {
   "cell_type": "markdown",
   "metadata": {},
   "source": [
    "### Analyze Performance"
   ]
  },
  {
   "cell_type": "code",
   "execution_count": 16,
   "metadata": {},
   "outputs": [
    {
     "data": {
      "text/plain": [
       "'Test Accuracy = 85.714 %'"
      ]
     },
     "execution_count": 16,
     "metadata": {},
     "output_type": "execute_result"
    }
   ],
   "source": [
    "### Calculate the accuracy for these 5 new images. \n",
    "### For example, if the model predicted 1 out of 5 signs correctly, it's 20% accurate on these new images.\n",
    "test_accuracy *= 100\n",
    "(\"Test Accuracy = {:.3f} %\".format(test_accuracy))"
   ]
  },
  {
   "cell_type": "markdown",
   "metadata": {},
   "source": [
    "### Output Top 5 Softmax Probabilities For Each Image Found on the Web"
   ]
  },
  {
   "cell_type": "markdown",
   "metadata": {},
   "source": [
    "For each of the new images, print out the model's softmax probabilities to show the **certainty** of the model's predictions (limit the output to the top 5 probabilities for each image). [`tf.nn.top_k`](https://www.tensorflow.org/versions/r0.12/api_docs/python/nn.html#top_k) could prove helpful here. \n",
    "\n",
    "The example below demonstrates how tf.nn.top_k can be used to find the top k predictions for each image.\n",
    "\n",
    "`tf.nn.top_k` will return the values and indices (class ids) of the top k predictions. So if k=3, for each sign, it'll return the 3 largest probabilities (out of a possible 43) and the correspoding class ids.\n",
    "\n",
    "Take this numpy array as an example. The values in the array represent predictions. The array contains softmax probabilities for five candidate images with six possible classes. `tf.nn.top_k` is used to choose the three classes with the highest probability:\n",
    "\n",
    "```\n",
    "# (5, 6) array\n",
    "a = np.array([[ 0.24879643,  0.07032244,  0.12641572,  0.34763842,  0.07893497,\n",
    "         0.12789202],\n",
    "       [ 0.28086119,  0.27569815,  0.08594638,  0.0178669 ,  0.18063401,\n",
    "         0.15899337],\n",
    "       [ 0.26076848,  0.23664738,  0.08020603,  0.07001922,  0.1134371 ,\n",
    "         0.23892179],\n",
    "       [ 0.11943333,  0.29198961,  0.02605103,  0.26234032,  0.1351348 ,\n",
    "         0.16505091],\n",
    "       [ 0.09561176,  0.34396535,  0.0643941 ,  0.16240774,  0.24206137,\n",
    "         0.09155967]])\n",
    "```\n",
    "\n",
    "Running it through `sess.run(tf.nn.top_k(tf.constant(a), k=3))` produces:\n",
    "\n",
    "```\n",
    "TopKV2(values=array([[ 0.34763842,  0.24879643,  0.12789202],\n",
    "       [ 0.28086119,  0.27569815,  0.18063401],\n",
    "       [ 0.26076848,  0.23892179,  0.23664738],\n",
    "       [ 0.29198961,  0.26234032,  0.16505091],\n",
    "       [ 0.34396535,  0.24206137,  0.16240774]]), indices=array([[3, 0, 5],\n",
    "       [0, 1, 4],\n",
    "       [0, 5, 1],\n",
    "       [1, 3, 5],\n",
    "       [1, 4, 3]], dtype=int32))\n",
    "```\n",
    "\n",
    "Looking just at the first row we get `[ 0.34763842,  0.24879643,  0.12789202]`, you can confirm these are the 3 largest probabilities in `a`. You'll also notice `[3, 0, 5]` are the corresponding indices."
   ]
  },
  {
   "cell_type": "code",
   "execution_count": 17,
   "metadata": {},
   "outputs": [
    {
     "name": "stdout",
     "output_type": "stream",
     "text": [
      "INFO:tensorflow:Restoring parameters from ./lenet\n",
      "softmax logits = /n [[  0.00000000e+00   0.00000000e+00   0.00000000e+00   1.00000000e+00\n",
      "    0.00000000e+00   6.71834337e-24   0.00000000e+00   0.00000000e+00\n",
      "    0.00000000e+00   4.20558538e-36   0.00000000e+00   0.00000000e+00\n",
      "    0.00000000e+00   0.00000000e+00   0.00000000e+00   0.00000000e+00\n",
      "    4.25838797e-30   0.00000000e+00   0.00000000e+00   0.00000000e+00\n",
      "    0.00000000e+00   0.00000000e+00   0.00000000e+00   0.00000000e+00\n",
      "    0.00000000e+00   0.00000000e+00   0.00000000e+00   0.00000000e+00\n",
      "    0.00000000e+00   0.00000000e+00   0.00000000e+00   0.00000000e+00\n",
      "    0.00000000e+00   0.00000000e+00   0.00000000e+00   3.26261887e-36\n",
      "    0.00000000e+00   0.00000000e+00   0.00000000e+00   0.00000000e+00\n",
      "    0.00000000e+00   0.00000000e+00   0.00000000e+00]\n",
      " [  3.01553216e-35   1.91321128e-33   1.63907994e-26   2.42935826e-14\n",
      "    1.78271257e-38   1.87940352e-23   0.00000000e+00   2.25495052e-25\n",
      "    1.25370944e-26   2.91418575e-17   4.19851022e-24   1.00000000e+00\n",
      "    1.34293640e-12   6.09047827e-26   0.00000000e+00   4.48440446e-24\n",
      "    1.14733112e-10   2.67227384e-29   5.63702019e-21   1.77125446e-18\n",
      "    4.80772619e-16   3.41531456e-11   4.85966969e-23   6.59073152e-18\n",
      "    8.46790286e-17   9.34005302e-19   1.83834468e-19   1.09109722e-17\n",
      "    6.68578691e-12   2.51581736e-19   3.80039511e-09   1.00826299e-21\n",
      "    5.02172286e-23   2.53965607e-17   4.99725511e-26   1.36405127e-15\n",
      "    7.41668207e-28   1.97230764e-20   1.33551716e-29   1.38380474e-30\n",
      "    1.36962676e-20   6.39391264e-23   1.51363580e-26]\n",
      " [  0.00000000e+00   1.45150851e-32   0.00000000e+00   0.00000000e+00\n",
      "    1.73944846e-26   0.00000000e+00   0.00000000e+00   0.00000000e+00\n",
      "    0.00000000e+00   0.00000000e+00   0.00000000e+00   1.02485087e-31\n",
      "    0.00000000e+00   0.00000000e+00   0.00000000e+00   4.76548995e-32\n",
      "    2.72147811e-37   3.51594798e-37   1.00000000e+00   0.00000000e+00\n",
      "    2.05177929e-24   0.00000000e+00   3.16546827e-24   2.89736142e-38\n",
      "    2.95015752e-17   3.74906314e-31   6.65533763e-13   2.75058349e-17\n",
      "    0.00000000e+00   1.22904664e-28   0.00000000e+00   1.01913776e-34\n",
      "    1.42917183e-35   1.11378400e-34   4.10431079e-28   0.00000000e+00\n",
      "    5.69944398e-36   0.00000000e+00   7.24135459e-31   0.00000000e+00\n",
      "    0.00000000e+00   0.00000000e+00   0.00000000e+00]\n",
      " [  6.78271197e-19   1.61504933e-24   1.27320129e-24   1.14179189e-30\n",
      "    1.53788093e-21   3.70549949e-38   0.00000000e+00   0.00000000e+00\n",
      "    1.24785978e-26   2.21724850e-14   2.74353181e-24   8.89966429e-35\n",
      "    1.96547755e-23   5.06250658e-20   4.98529278e-13   1.40052418e-35\n",
      "    3.73202113e-26   1.00000000e+00   4.49901919e-32   5.07903124e-18\n",
      "    1.10789744e-20   0.00000000e+00   2.50482913e-30   3.19231704e-31\n",
      "    0.00000000e+00   2.64715725e-18   1.91417099e-22   7.89302323e-37\n",
      "    0.00000000e+00   4.24682221e-22   1.63296584e-31   1.14281623e-22\n",
      "    2.86659080e-30   9.33668000e-24   1.64391930e-27   7.84668634e-33\n",
      "    1.96224804e-16   1.18809729e-20   7.64311743e-23   3.78876494e-35\n",
      "    1.71195253e-25   1.18730618e-17   3.69360695e-28]\n",
      " [  3.77938920e-03   6.01560056e-01   1.82098046e-01   2.82370788e-03\n",
      "    1.75017789e-02   6.46295911e-03   4.40652046e-04   5.20181629e-06\n",
      "    5.05996468e-05   2.54654587e-04   8.79287109e-05   3.00415792e-04\n",
      "    9.71641578e-03   1.34644145e-02   2.71876855e-03   3.77465598e-03\n",
      "    1.18470086e-11   1.41376106e-04   3.17051687e-04   3.15957504e-06\n",
      "    2.97988532e-04   1.03048351e-05   5.65959454e-07   1.68497390e-05\n",
      "    9.08445939e-03   7.32854158e-02   1.52935623e-04   6.82442478e-05\n",
      "    3.67344730e-02   1.06460787e-03   4.30721957e-05   4.39460600e-05\n",
      "    5.65252340e-05   6.20190476e-05   1.50588350e-02   8.84649251e-03\n",
      "    1.08431355e-04   8.44516401e-11   9.15858615e-03   1.82035001e-04\n",
      "    2.06833094e-04   7.43076453e-06   8.71793600e-06]\n",
      " [  0.00000000e+00   0.00000000e+00   0.00000000e+00   2.17429378e-28\n",
      "    0.00000000e+00   0.00000000e+00   0.00000000e+00   0.00000000e+00\n",
      "    0.00000000e+00   8.83683585e-29   0.00000000e+00   0.00000000e+00\n",
      "    3.90549893e-21   1.42933342e-30   0.00000000e+00   5.17673069e-28\n",
      "    6.47916420e-37   8.82357559e-34   0.00000000e+00   0.00000000e+00\n",
      "    0.00000000e+00   0.00000000e+00   3.44541895e-37   2.97265313e-37\n",
      "    0.00000000e+00   7.83002612e-27   0.00000000e+00   0.00000000e+00\n",
      "    0.00000000e+00   1.06665584e-32   0.00000000e+00   0.00000000e+00\n",
      "    0.00000000e+00   7.56057234e-27   1.51022460e-22   1.00000000e+00\n",
      "    2.10399508e-25   2.00209831e-28   6.00717435e-28   0.00000000e+00\n",
      "    0.00000000e+00   1.04026640e-33   0.00000000e+00]\n",
      " [  1.33061856e-15   9.89691835e-13   6.21375867e-12   2.22475843e-10\n",
      "    1.97504136e-18   7.56890731e-12   6.14192696e-16   8.32235322e-12\n",
      "    7.60345051e-11   1.71643942e-15   1.47996563e-11   1.07539357e-07\n",
      "    9.82765203e-10   9.40512859e-13   2.59472166e-11   4.67696769e-18\n",
      "    1.22484438e-18   8.17146177e-12   1.12068244e-09   1.11569732e-03\n",
      "    5.51751800e-09   2.88268505e-03   1.16964395e-04   1.70320936e-03\n",
      "    5.69913994e-12   3.99467081e-06   2.61698664e-16   3.11774807e-15\n",
      "    9.71430020e-11   3.83711049e-05   4.45077103e-06   9.94134367e-01\n",
      "    5.31310871e-22   3.39306377e-21   2.17804410e-21   1.50523591e-16\n",
      "    1.30838029e-16   2.16590967e-10   6.56795933e-08   1.02744821e-07\n",
      "    8.68910591e-16   1.06557880e-22   6.86081547e-30]]\n",
      "\n",
      "top k 5 predictions = /n TopKV2(values=array([[  1.00000000e+00,   6.71834337e-24,   4.25838797e-30,\n",
      "          4.20558538e-36,   3.26261887e-36],\n",
      "       [  1.00000000e+00,   3.80039511e-09,   1.14733112e-10,\n",
      "          3.41531456e-11,   6.68578691e-12],\n",
      "       [  1.00000000e+00,   6.65533763e-13,   2.95015752e-17,\n",
      "          2.75058349e-17,   3.16546827e-24],\n",
      "       [  1.00000000e+00,   4.98529278e-13,   2.21724850e-14,\n",
      "          1.96224804e-16,   1.18730618e-17],\n",
      "       [  6.01560056e-01,   1.82098046e-01,   7.32854158e-02,\n",
      "          3.67344730e-02,   1.75017789e-02],\n",
      "       [  1.00000000e+00,   3.90549893e-21,   1.51022460e-22,\n",
      "          2.10399508e-25,   7.83002612e-27],\n",
      "       [  9.94134367e-01,   2.88268505e-03,   1.70320936e-03,\n",
      "          1.11569732e-03,   1.16964395e-04]], dtype=float32), indices=array([[ 3,  5, 16,  9, 35],\n",
      "       [11, 30, 16, 21, 28],\n",
      "       [18, 26, 24, 27, 22],\n",
      "       [17, 14,  9, 36, 41],\n",
      "       [ 1,  2, 25, 28,  4],\n",
      "       [35, 12, 34, 36, 25],\n",
      "       [31, 21, 23, 19, 22]], dtype=int32))\n"
     ]
    }
   ],
   "source": [
    "### Print out the top five softmax probabilities for the predictions on the German traffic sign images found on the web. \n",
    "### Feel free to use as many code cells as needed.\n",
    "\n",
    "softmax_logits = tf.nn.softmax(logits)\n",
    "top_k = tf.nn.top_k(softmax_logits, k=5)\n",
    "\n",
    "with tf.Session() as sess:\n",
    "    sess.run(tf.global_variables_initializer())\n",
    "    saver.restore(sess, tf.train.latest_checkpoint('.'))\n",
    "    sess_softmax_logits = sess.run(softmax_logits, feed_dict={x: saved_images, keep_prob: 1.0})\n",
    "    sess_top_k = sess.run(top_k, feed_dict={x: saved_images, keep_prob: 1.0})\n",
    "    \n",
    "    \n",
    "    print(\"softmax logits = /n {0}\".format(sess_softmax_logits))\n",
    "    print()\n",
    "    print(\"top k 5 predictions = /n {0}\".format(sess_top_k))"
   ]
  },
  {
   "cell_type": "markdown",
   "metadata": {},
   "source": [
    "### Project Writeup\n",
    "\n",
    "Once you have completed the code implementation, document your results in a project writeup using this [template](https://github.com/udacity/CarND-Traffic-Sign-Classifier-Project/blob/master/writeup_template.md) as a guide. The writeup can be in a markdown or pdf file. "
   ]
  },
  {
   "cell_type": "markdown",
   "metadata": {},
   "source": [
    "> **Note**: Once you have completed all of the code implementations and successfully answered each question above, you may finalize your work by exporting the iPython Notebook as an HTML document. You can do this by using the menu above and navigating to  \\n\",\n",
    "    \"**File -> Download as -> HTML (.html)**. Include the finished document along with this notebook as your submission."
   ]
  },
  {
   "cell_type": "markdown",
   "metadata": {},
   "source": [
    "---\n",
    "\n",
    "## Step 4 (Optional): Visualize the Neural Network's State with Test Images\n",
    "\n",
    " This Section is not required to complete but acts as an additional excersise for understaning the output of a neural network's weights. While neural networks can be a great learning device they are often referred to as a black box. We can understand what the weights of a neural network look like better by plotting their feature maps. After successfully training your neural network you can see what it's feature maps look like by plotting the output of the network's weight layers in response to a test stimuli image. From these plotted feature maps, it's possible to see what characteristics of an image the network finds interesting. For a sign, maybe the inner network feature maps react with high activation to the sign's boundary outline or to the contrast in the sign's painted symbol.\n",
    "\n",
    " Provided for you below is the function code that allows you to get the visualization output of any tensorflow weight layer you want. The inputs to the function should be a stimuli image, one used during training or a new one you provided, and then the tensorflow variable name that represents the layer's state during the training process, for instance if you wanted to see what the [LeNet lab's](https://classroom.udacity.com/nanodegrees/nd013/parts/fbf77062-5703-404e-b60c-95b78b2f3f9e/modules/6df7ae49-c61c-4bb2-a23e-6527e69209ec/lessons/601ae704-1035-4287-8b11-e2c2716217ad/concepts/d4aca031-508f-4e0b-b493-e7b706120f81) feature maps looked like for it's second convolutional layer you could enter conv2 as the tf_activation variable.\n",
    "\n",
    "For an example of what feature map outputs look like, check out NVIDIA's results in their paper [End-to-End Deep Learning for Self-Driving Cars](https://devblogs.nvidia.com/parallelforall/deep-learning-self-driving-cars/) in the section Visualization of internal CNN State. NVIDIA was able to show that their network's inner weights had high activations to road boundary lines by comparing feature maps from an image with a clear path to one without. Try experimenting with a similar test to show that your trained network's weights are looking for interesting features, whether it's looking at differences in feature maps from images with or without a sign, or even what feature maps look like in a trained network vs a completely untrained one on the same sign image.\n",
    "\n",
    "<figure>\n",
    " <img src=\"visualize_cnn.png\" width=\"380\" alt=\"Combined Image\" />\n",
    " <figcaption>\n",
    " <p></p> \n",
    " <p style=\"text-align: center;\"> Your output should look something like this (above)</p> \n",
    " </figcaption>\n",
    "</figure>\n",
    " <p></p> \n"
   ]
  },
  {
   "cell_type": "code",
   "execution_count": 18,
   "metadata": {},
   "outputs": [],
   "source": [
    "### Visualize your network's feature maps here.\n",
    "### Feel free to use as many code cells as needed.\n",
    "\n",
    "# image_input: the test image being fed into the network to produce the feature maps\n",
    "# tf_activation: should be a tf variable name used during your training procedure that represents the calculated state of a specific weight layer\n",
    "# activation_min/max: can be used to view the activation contrast in more detail, by default matplot sets min and max to the actual min and max values of the output\n",
    "# plt_num: used to plot out multiple different weight feature map sets on the same block, just extend the plt number for each new feature map entry\n",
    "\n",
    "def outputFeatureMap(image_input, tf_activation, activation_min=-1, activation_max=-1 ,plt_num=1):\n",
    "    # Here make sure to preprocess your image_input in a way your network expects\n",
    "    # with size, normalization, ect if needed\n",
    "    # image_input =\n",
    "    # Note: x should be the same name as your network's tensorflow data placeholder variable\n",
    "    # If you get an error tf_activation is not defined it may be having trouble accessing the variable from inside a function\n",
    "    activation = tf_activation.eval(session=sess,feed_dict={x : image_input})\n",
    "    featuremaps = activation.shape[3]\n",
    "    plt.figure(plt_num, figsize=(15,15))\n",
    "    for featuremap in range(featuremaps):\n",
    "        plt.subplot(6,8, featuremap+1) # sets the number of feature maps to show on each row and column\n",
    "        plt.title('FeatureMap ' + str(featuremap)) # displays the feature map number\n",
    "        if activation_min != -1 & activation_max != -1:\n",
    "            plt.imshow(activation[0,:,:, featuremap], interpolation=\"nearest\", vmin =activation_min, vmax=activation_max, cmap=\"gray\")\n",
    "        elif activation_max != -1:\n",
    "            plt.imshow(activation[0,:,:, featuremap], interpolation=\"nearest\", vmax=activation_max, cmap=\"gray\")\n",
    "        elif activation_min !=-1:\n",
    "            plt.imshow(activation[0,:,:, featuremap], interpolation=\"nearest\", vmin=activation_min, cmap=\"gray\")\n",
    "        else:\n",
    "            plt.imshow(activation[0,:,:, featuremap], interpolation=\"nearest\", cmap=\"gray\")"
   ]
  },
  {
   "cell_type": "code",
   "execution_count": 19,
   "metadata": {},
   "outputs": [
    {
     "name": "stdout",
     "output_type": "stream",
     "text": [
      "INFO:tensorflow:Restoring parameters from ./lenet\n"
     ]
    },
    {
     "data": {
      "image/png": "[encoded data removed]",
      "text/plain": [
       "<matplotlib.figure.Figure at 0x7f62ba745a58>"
      ]
     },
     "metadata": {
      "needs_background": "light"
     },
     "output_type": "display_data"
    },
    {
     "data": {
      "image/png": "[encoded data removed]",
      "text/plain": [
       "<matplotlib.figure.Figure at 0x7f63057485c0>"
      ]
     },
     "metadata": {
      "needs_background": "light"
     },
     "output_type": "display_data"
    },
    {
     "data": {
      "image/png": "[encoded data removed]",
      "text/plain": [
       "<matplotlib.figure.Figure at 0x7f6305624940>"
      ]
     },
     "metadata": {
      "needs_background": "light"
     },
     "output_type": "display_data"
    },
    {
     "data": {
      "image/png": "[encoded data removed]",
      "text/plain": [
       "<matplotlib.figure.Figure at 0x7f6305247240>"
      ]
     },
     "metadata": {
      "needs_background": "light"
     },
     "output_type": "display_data"
    }
   ],
   "source": [
    "with tf.Session() as sess:\n",
    "    saver.restore(sess, tf.train.latest_checkpoint('.'))\n",
    "    conv1_s = sess.graph.get_tensor_by_name('conv1:0')\n",
    "    outputFeatureMap(saved_images, conv1_s, plt_num=1)\n",
    "    \n",
    "    conv1_s = sess.graph.get_tensor_by_name('max1:0')\n",
    "    outputFeatureMap(saved_images, conv1_s, plt_num=2)\n",
    "    \n",
    "    conv2_s = sess.graph.get_tensor_by_name('conv2:0')\n",
    "    outputFeatureMap(saved_images, conv2_s, plt_num=3)\n",
    "    \n",
    "    conv2_s = sess.graph.get_tensor_by_name('max2:0')\n",
    "    outputFeatureMap(saved_images, conv2_s, plt_num=4)"
   ]
  },
  {
   "cell_type": "code",
   "execution_count": null,
   "metadata": {},
   "outputs": [],
   "source": []
  }
 ],
 "metadata": {
  "anaconda-cloud": {},
  "kernelspec": {
   "display_name": "Python 3",
   "language": "python",
   "name": "python3"
  },
  "language_info": {
   "codemirror_mode": {
    "name": "ipython",
    "version": 3
   },
   "file_extension": ".py",
   "mimetype": "text/x-python",
   "name": "python",
   "nbconvert_exporter": "python",
   "pygments_lexer": "ipython3",
   "version": "3.6.3"
  }
 },
 "nbformat": 4,
 "nbformat_minor": 1
}
